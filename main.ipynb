{
 "cells": [
  {
   "cell_type": "code",
   "execution_count": 14,
   "id": "18734d74",
   "metadata": {},
   "outputs": [],
   "source": [
    "import lenet\n",
    "reload(lenet)\n",
    "import torch\n",
    "from importlib import reload\n",
    "from lenet import LeNet\n",
    "from lenet import FinalLinear\n",
    "from torch import tensor\n",
    "import torch.nn as nn\n",
    "import torchvision.models as models"
   ]
  },
  {
   "cell_type": "code",
   "execution_count": 15,
   "id": "46106992",
   "metadata": {},
   "outputs": [],
   "source": [
    "net = LeNet()\n",
    "lin = FinalLinear(7,1470)\n",
    "lenet  = nn.Sequential(LeNet(),FinalLinear(7,1470))\n",
    "image = torch.rand(2, 3, 448, 448)"
   ]
  },
  {
   "cell_type": "code",
   "execution_count": 16,
   "id": "d5d8e2d0",
   "metadata": {},
   "outputs": [],
   "source": [
    "max_pool = nn.MaxPool2d(7)\n",
    "avg_pool = nn.AvgPool2d(7)"
   ]
  },
  {
   "cell_type": "code",
   "execution_count": 19,
   "id": "ecb1748b",
   "metadata": {},
   "outputs": [
    {
     "data": {
      "text/plain": [
       "torch.Size([2, 1470])"
      ]
     },
     "execution_count": 19,
     "metadata": {},
     "output_type": "execute_result"
    }
   ],
   "source": [
    "lenet(image).shape"
   ]
  },
  {
   "cell_type": "code",
   "execution_count": null,
   "id": "ea2c66a6",
   "metadata": {},
   "outputs": [],
   "source": []
  }
 ],
 "metadata": {
  "kernelspec": {
   "display_name": "Python 3",
   "language": "python",
   "name": "python3"
  },
  "language_info": {
   "codemirror_mode": {
    "name": "ipython",
    "version": 3
   },
   "file_extension": ".py",
   "mimetype": "text/x-python",
   "name": "python",
   "nbconvert_exporter": "python",
   "pygments_lexer": "ipython3",
   "version": "3.8.5"
  }
 },
 "nbformat": 4,
 "nbformat_minor": 5
}
