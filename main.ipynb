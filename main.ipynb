{
 "cells": [
  {
   "cell_type": "code",
   "execution_count": 14,
   "id": "18734d74",
   "metadata": {},
   "outputs": [
    {
     "data": {
      "text/plain": [
       "<module 'lenet' from '/home/plozovatel/Projects/DataScience/yolo/lenet.py'>"
      ]
     },
     "execution_count": 14,
     "metadata": {},
     "output_type": "execute_result"
    }
   ],
   "source": [
    "import lenet\n",
    "import torch\n",
    "from importlib import reload\n",
    "from lenet import LeNet\n",
    "from torch import tensor\n",
    "import torch.nn as nn\n",
    "import torchvision.models as models\n",
    "reload(lenet)"
   ]
  },
  {
   "cell_type": "code",
   "execution_count": 15,
   "id": "46106992",
   "metadata": {},
   "outputs": [],
   "source": [
    "net = lenet.LeNet()\n",
    "image = torch.rand(1, 3, 448, 448)"
   ]
  },
  {
   "cell_type": "code",
   "execution_count": null,
   "id": "69dbcdb7",
   "metadata": {
    "scrolled": true
   },
   "outputs": [],
   "source": [
    "net.l1(image)"
   ]
  },
  {
   "cell_type": "code",
   "execution_count": 16,
   "id": "82515896",
   "metadata": {},
   "outputs": [
    {
     "data": {
      "text/plain": [
       "LeNet(\n",
       "  (l1): Sequential(\n",
       "    (0): Conv2d(3, 64, kernel_size=(7, 7), stride=(2, 2), padding=(3, 3), padding_mode=reflect)\n",
       "    (1): MaxPool2d(kernel_size=2, stride=2, padding=0, dilation=1, ceil_mode=False)\n",
       "    (2): ReLU()\n",
       "    (3): Conv2d(64, 192, kernel_size=(3, 3), stride=(1, 1), padding=(1, 1), padding_mode=reflect)\n",
       "    (4): MaxPool2d(kernel_size=2, stride=2, padding=0, dilation=1, ceil_mode=False)\n",
       "    (5): ReLU()\n",
       "    (6): Conv2d(192, 128, kernel_size=(1, 1), stride=(1, 1))\n",
       "    (7): ReLU()\n",
       "    (8): Conv2d(128, 256, kernel_size=(3, 3), stride=(1, 1), padding=(1, 1), padding_mode=reflect)\n",
       "    (9): ReLU()\n",
       "    (10): Conv2d(256, 256, kernel_size=(1, 1), stride=(1, 1))\n",
       "    (11): ReLU()\n",
       "    (12): Conv2d(256, 512, kernel_size=(3, 3), stride=(1, 1), padding=(1, 1), padding_mode=reflect)\n",
       "    (13): MaxPool2d(kernel_size=2, stride=2, padding=0, dilation=1, ceil_mode=False)\n",
       "    (14): ReLU()\n",
       "  )\n",
       "  (rp1): Sequential(\n",
       "    (0): Conv2d(512, 256, kernel_size=(1, 1), stride=(1, 1))\n",
       "    (1): ReLU()\n",
       "    (2): Conv2d(256, 512, kernel_size=(3, 3), stride=(1, 1), padding=(1, 1), padding_mode=reflect)\n",
       "    (3): ReLU()\n",
       "    (4): Conv2d(512, 256, kernel_size=(1, 1), stride=(1, 1))\n",
       "    (5): ReLU()\n",
       "    (6): Conv2d(256, 512, kernel_size=(3, 3), stride=(1, 1), padding=(1, 1), padding_mode=reflect)\n",
       "    (7): ReLU()\n",
       "    (8): Conv2d(512, 256, kernel_size=(1, 1), stride=(1, 1))\n",
       "    (9): ReLU()\n",
       "    (10): Conv2d(256, 512, kernel_size=(3, 3), stride=(1, 1), padding=(1, 1), padding_mode=reflect)\n",
       "    (11): ReLU()\n",
       "    (12): Conv2d(512, 256, kernel_size=(1, 1), stride=(1, 1))\n",
       "    (13): ReLU()\n",
       "    (14): Conv2d(256, 512, kernel_size=(3, 3), stride=(1, 1), padding=(1, 1), padding_mode=reflect)\n",
       "    (15): ReLU()\n",
       "  )\n",
       "  (l3): Sequential(\n",
       "    (0): Conv2d(512, 512, kernel_size=(1, 1), stride=(1, 1))\n",
       "    (1): ReLU()\n",
       "    (2): Conv2d(512, 1024, kernel_size=(3, 3), stride=(1, 1), padding=(1, 1), padding_mode=reflect)\n",
       "    (3): MaxPool2d(kernel_size=2, stride=2, padding=0, dilation=1, ceil_mode=False)\n",
       "    (4): ReLU()\n",
       "  )\n",
       "  (rp2): Sequential(\n",
       "    (0): Conv2d(1024, 512, kernel_size=(1, 1), stride=(1, 1))\n",
       "    (1): ReLU()\n",
       "    (2): Conv2d(512, 1024, kernel_size=(3, 3), stride=(1, 1), padding=(1, 1), padding_mode=reflect)\n",
       "    (3): ReLU()\n",
       "    (4): Conv2d(1024, 512, kernel_size=(1, 1), stride=(1, 1))\n",
       "    (5): ReLU()\n",
       "    (6): Conv2d(512, 1024, kernel_size=(3, 3), stride=(1, 1), padding=(1, 1), padding_mode=reflect)\n",
       "    (7): ReLU()\n",
       "  )\n",
       "  (l5): Sequential(\n",
       "    (0): Conv2d(1024, 1024, kernel_size=(3, 3), stride=(1, 1), padding=(1, 1), padding_mode=reflect)\n",
       "    (1): ReLU()\n",
       "    (2): Conv2d(1024, 1024, kernel_size=(3, 3), stride=(2, 2), padding=(1, 1), padding_mode=reflect)\n",
       "    (3): ReLU()\n",
       "    (4): Conv2d(1024, 1024, kernel_size=(3, 3), stride=(1, 1), padding=(1, 1), padding_mode=reflect)\n",
       "    (5): ReLU()\n",
       "    (6): Conv2d(1024, 1024, kernel_size=(3, 3), stride=(1, 1), padding=(1, 1), padding_mode=reflect)\n",
       "    (7): ReLU()\n",
       "  )\n",
       "  (linear): Sequential(\n",
       "    (0): Linear(in_features=50176, out_features=4096, bias=True)\n",
       "    (1): ReLU()\n",
       "    (2): Linear(in_features=4096, out_features=1470, bias=True)\n",
       "  )\n",
       ")"
      ]
     },
     "execution_count": 16,
     "metadata": {},
     "output_type": "execute_result"
    }
   ],
   "source": [
    "net"
   ]
  },
  {
   "cell_type": "code",
   "execution_count": 24,
   "id": "f8526b38",
   "metadata": {},
   "outputs": [
    {
     "data": {
      "text/plain": [
       "torch.Size([3, 1470])"
      ]
     },
     "execution_count": 24,
     "metadata": {},
     "output_type": "execute_result"
    }
   ],
   "source": [
    "pred.shape"
   ]
  },
  {
   "cell_type": "code",
   "execution_count": 24,
   "id": "15e43d01",
   "metadata": {},
   "outputs": [
    {
     "data": {
      "text/plain": [
       "tensor([0.5662, 0.7835, 0.9602,  ..., 0.2495, 0.6819, 0.2599])"
      ]
     },
     "execution_count": 24,
     "metadata": {},
     "output_type": "execute_result"
    }
   ],
   "source": [
    "pred = torch.rand(3, 1470)\n",
    "pred[2]"
   ]
  },
  {
   "cell_type": "code",
   "execution_count": 25,
   "id": "b57a5d6e",
   "metadata": {},
   "outputs": [],
   "source": [
    "reshaped = torch.reshape(pred,(-1,30,7,7))[2]"
   ]
  },
  {
   "cell_type": "code",
   "execution_count": 26,
   "id": "2b826fa7",
   "metadata": {},
   "outputs": [
    {
     "data": {
      "text/plain": [
       "tensor([0.5662, 0.7835, 0.9602,  ..., 0.2495, 0.6819, 0.2599])"
      ]
     },
     "execution_count": 26,
     "metadata": {},
     "output_type": "execute_result"
    }
   ],
   "source": [
    "torch.flatten(reshaped)"
   ]
  },
  {
   "cell_type": "code",
   "execution_count": 8,
   "id": "fefeaf3b",
   "metadata": {},
   "outputs": [
    {
     "data": {
      "text/plain": [
       "262524670"
      ]
     },
     "execution_count": 8,
     "metadata": {},
     "output_type": "execute_result"
    }
   ],
   "source": [
    "sume = 0\n",
    "for p in net.parameters():\n",
    "    sume+=torch.numel(p)\n",
    "sume"
   ]
  },
  {
   "cell_type": "code",
   "execution_count": 11,
   "id": "55978dec",
   "metadata": {},
   "outputs": [
    {
     "data": {
      "text/plain": [
       "57003774"
      ]
     },
     "execution_count": 11,
     "metadata": {},
     "output_type": "execute_result"
    }
   ],
   "source": [
    "262524670-205520896"
   ]
  },
  {
   "cell_type": "code",
   "execution_count": 10,
   "id": "a5085716",
   "metadata": {},
   "outputs": [
    {
     "name": "stdout",
     "output_type": "stream",
     "text": [
      "9408\n",
      "64\n",
      "110592\n",
      "192\n",
      "24576\n",
      "128\n",
      "294912\n",
      "256\n",
      "65536\n",
      "256\n",
      "1179648\n",
      "512\n",
      "131072\n",
      "256\n",
      "1179648\n",
      "512\n",
      "262144\n",
      "512\n",
      "4718592\n",
      "1024\n",
      "524288\n",
      "512\n",
      "4718592\n",
      "1024\n",
      "9437184\n",
      "1024\n",
      "9437184\n",
      "1024\n",
      "9437184\n",
      "1024\n",
      "9437184\n",
      "1024\n",
      "205520896\n",
      "4096\n",
      "6021120\n",
      "1470\n"
     ]
    }
   ],
   "source": [
    "for p in net.parameters():\n",
    "    print(torch.numel(p))"
   ]
  },
  {
   "cell_type": "code",
   "execution_count": null,
   "id": "15fd88e0",
   "metadata": {},
   "outputs": [],
   "source": [
    "torch.nn.init.uniform_(tensor, a=0.0, b=1.0)"
   ]
  }
 ],
 "metadata": {
  "kernelspec": {
   "display_name": "Python 3",
   "language": "python",
   "name": "python3"
  },
  "language_info": {
   "codemirror_mode": {
    "name": "ipython",
    "version": 3
   },
   "file_extension": ".py",
   "mimetype": "text/x-python",
   "name": "python",
   "nbconvert_exporter": "python",
   "pygments_lexer": "ipython3",
   "version": "3.8.5"
  }
 },
 "nbformat": 4,
 "nbformat_minor": 5
}
